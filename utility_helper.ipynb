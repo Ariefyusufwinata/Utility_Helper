{
 "cells": [
  {
   "cell_type": "code",
   "execution_count": null,
   "metadata": {},
   "outputs": [],
   "source": [
    "# Installer Package\n",
    "\n",
    "%pip install pillow"
   ]
  },
  {
   "cell_type": "code",
   "execution_count": null,
   "metadata": {},
   "outputs": [],
   "source": [
    "import PIL\n",
    "from PIL import Image\n",
    "from tkinter.filedialog import *"
   ]
  },
  {
   "cell_type": "code",
   "execution_count": null,
   "metadata": {},
   "outputs": [],
   "source": [
    "# Compress Image\n",
    "\n",
    "file_path = askopenfilename()\n",
    "img = PIL.Image.open(file_path)\n",
    "myHeight, myWidth = img.size\n",
    "\n",
    "img = img.resize((myHeight, myWidth) , PIL.Image.ANTIALIAS)\n",
    "save_path = asksaveasfilename()\n",
    "\n",
    "img.save(save_path+\"_compressed.JPG\")"
   ]
  }
 ],
 "metadata": {
  "kernelspec": {
   "display_name": "Python 3",
   "language": "python",
   "name": "python3"
  },
  "language_info": {
   "codemirror_mode": {
    "name": "ipython",
    "version": 3
   },
   "file_extension": ".py",
   "mimetype": "text/x-python",
   "name": "python",
   "nbconvert_exporter": "python",
   "pygments_lexer": "ipython3",
   "version": "3.10.8"
  },
  "orig_nbformat": 4,
  "vscode": {
   "interpreter": {
    "hash": "ac1bb307f6e43ccf5858b80e412f39a08b536a16a290ec73d21569ed81a85c8e"
   }
  }
 },
 "nbformat": 4,
 "nbformat_minor": 2
}
